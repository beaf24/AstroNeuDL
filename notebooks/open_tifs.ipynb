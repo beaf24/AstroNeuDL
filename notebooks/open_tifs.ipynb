{
 "cells": [
  {
   "cell_type": "code",
   "execution_count": 1,
   "metadata": {},
   "outputs": [],
   "source": [
    "import os\n",
    "import shutil\n",
    "import imagej\n",
    "import scyjava\n",
    "from scyjava import jimport\n",
    "import bioformats\n",
    "import pandas as pd\n",
    "import numpy as np"
   ]
  },
  {
   "cell_type": "code",
   "execution_count": 2,
   "metadata": {},
   "outputs": [
    {
     "name": "stdout",
     "output_type": "stream",
     "text": [
      "15:41:39.815 [SciJava-10b68723-Thread-0] DEBUG loci.formats.ClassList - Could not find loci.formats.in.URLReader\n",
      "java.lang.ClassNotFoundException: loci.formats.in.URLReader\n",
      "\tat java.net.URLClassLoader.findClass(URLClassLoader.java:387)\n",
      "\tat java.lang.ClassLoader.loadClass(ClassLoader.java:419)\n",
      "\tat sun.misc.Launcher$AppClassLoader.loadClass(Launcher.java:352)\n",
      "\tat java.lang.ClassLoader.loadClass(ClassLoader.java:352)\n",
      "\tat java.lang.Class.forName0(Native Method)\n",
      "\tat java.lang.Class.forName(Class.java:264)\n",
      "\tat loci.formats.ClassList.parseLine(ClassList.java:196)\n",
      "\tat loci.formats.ClassList.parseFile(ClassList.java:258)\n",
      "\tat loci.formats.ClassList.<init>(ClassList.java:138)\n",
      "\tat loci.formats.ClassList.<init>(ClassList.java:122)\n",
      "\tat loci.formats.ImageReader.getDefaultReaderClasses(ImageReader.java:80)\n",
      "\tat io.scif.bf.BioFormatsFormat.cacheReaderClasses(BioFormatsFormat.java:538)\n",
      "\tat io.scif.bf.BioFormatsFormat.<init>(BioFormatsFormat.java:139)\n",
      "\tat sun.reflect.NativeConstructorAccessorImpl.newInstance0(Native Method)\n",
      "\tat sun.reflect.NativeConstructorAccessorImpl.newInstance(NativeConstructorAccessorImpl.java:62)\n",
      "\tat sun.reflect.DelegatingConstructorAccessorImpl.newInstance(DelegatingConstructorAccessorImpl.java:45)\n",
      "\tat java.lang.reflect.Constructor.newInstance(Constructor.java:423)\n",
      "\tat java.lang.Class.newInstance(Class.java:442)\n",
      "\tat org.scijava.plugin.PluginInfo.createInstance(PluginInfo.java:304)\n",
      "\tat org.scijava.plugin.DefaultPluginService.createInstance(DefaultPluginService.java:234)\n",
      "\tat org.scijava.plugin.DefaultPluginService.createInstances(DefaultPluginService.java:223)\n",
      "\tat org.scijava.plugin.DefaultPluginService.createInstancesOfType(DefaultPluginService.java:214)\n",
      "\tat io.scif.services.DefaultFormatService.lambda$initialize$0(DefaultFormatService.java:459)\n",
      "\tat org.scijava.thread.DefaultThreadService.lambda$wrap$1(DefaultThreadService.java:211)\n",
      "\tat java.util.concurrent.Executors$RunnableAdapter.call(Executors.java:511)\n",
      "\tat java.util.concurrent.FutureTask.run(FutureTask.java:266)\n",
      "\tat java.util.concurrent.ThreadPoolExecutor.runWorker(ThreadPoolExecutor.java:1149)\n",
      "\tat java.util.concurrent.ThreadPoolExecutor$Worker.run(ThreadPoolExecutor.java:624)\n",
      "\tat java.lang.Thread.run(Thread.java:748)\n",
      "15:41:39.844 [SciJava-10b68723-Thread-0] DEBUG loci.formats.ClassList - Could not find loci.formats.in.SlideBook6Reader\n",
      "java.lang.ClassNotFoundException: loci.formats.in.SlideBook6Reader\n",
      "\tat java.net.URLClassLoader.findClass(URLClassLoader.java:387)\n",
      "\tat java.lang.ClassLoader.loadClass(ClassLoader.java:419)\n",
      "\tat sun.misc.Launcher$AppClassLoader.loadClass(Launcher.java:352)\n",
      "\tat java.lang.ClassLoader.loadClass(ClassLoader.java:352)\n",
      "\tat java.lang.Class.forName0(Native Method)\n",
      "\tat java.lang.Class.forName(Class.java:264)\n",
      "\tat loci.formats.ClassList.parseLine(ClassList.java:196)\n",
      "\tat loci.formats.ClassList.parseFile(ClassList.java:258)\n",
      "\tat loci.formats.ClassList.<init>(ClassList.java:138)\n",
      "\tat loci.formats.ClassList.<init>(ClassList.java:122)\n",
      "\tat loci.formats.ImageReader.getDefaultReaderClasses(ImageReader.java:80)\n",
      "\tat io.scif.bf.BioFormatsFormat.cacheReaderClasses(BioFormatsFormat.java:538)\n",
      "\tat io.scif.bf.BioFormatsFormat.<init>(BioFormatsFormat.java:139)\n",
      "\tat sun.reflect.NativeConstructorAccessorImpl.newInstance0(Native Method)\n",
      "\tat sun.reflect.NativeConstructorAccessorImpl.newInstance(NativeConstructorAccessorImpl.java:62)\n",
      "\tat sun.reflect.DelegatingConstructorAccessorImpl.newInstance(DelegatingConstructorAccessorImpl.java:45)\n",
      "\tat java.lang.reflect.Constructor.newInstance(Constructor.java:423)\n",
      "\tat java.lang.Class.newInstance(Class.java:442)\n",
      "\tat org.scijava.plugin.PluginInfo.createInstance(PluginInfo.java:304)\n",
      "\tat org.scijava.plugin.DefaultPluginService.createInstance(DefaultPluginService.java:234)\n",
      "\tat org.scijava.plugin.DefaultPluginService.createInstances(DefaultPluginService.java:223)\n",
      "\tat org.scijava.plugin.DefaultPluginService.createInstancesOfType(DefaultPluginService.java:214)\n",
      "\tat io.scif.services.DefaultFormatService.lambda$initialize$0(DefaultFormatService.java:459)\n",
      "\tat org.scijava.thread.DefaultThreadService.lambda$wrap$1(DefaultThreadService.java:211)\n",
      "\tat java.util.concurrent.Executors$RunnableAdapter.call(Executors.java:511)\n",
      "\tat java.util.concurrent.FutureTask.run(FutureTask.java:266)\n",
      "\tat java.util.concurrent.ThreadPoolExecutor.runWorker(ThreadPoolExecutor.java:1149)\n",
      "\tat java.util.concurrent.ThreadPoolExecutor$Worker.run(ThreadPoolExecutor.java:624)\n",
      "\tat java.lang.Thread.run(Thread.java:748)\n",
      "15:41:39.845 [SciJava-10b68723-Thread-0] DEBUG loci.formats.ClassList - Could not find loci.formats.in.ScreenReader\n",
      "java.lang.ClassNotFoundException: loci.formats.in.ScreenReader\n",
      "\tat java.net.URLClassLoader.findClass(URLClassLoader.java:387)\n",
      "\tat java.lang.ClassLoader.loadClass(ClassLoader.java:419)\n",
      "\tat sun.misc.Launcher$AppClassLoader.loadClass(Launcher.java:352)\n",
      "\tat java.lang.ClassLoader.loadClass(ClassLoader.java:352)\n",
      "\tat java.lang.Class.forName0(Native Method)\n",
      "\tat java.lang.Class.forName(Class.java:264)\n",
      "\tat loci.formats.ClassList.parseLine(ClassList.java:196)\n",
      "\tat loci.formats.ClassList.parseFile(ClassList.java:258)\n",
      "\tat loci.formats.ClassList.<init>(ClassList.java:138)\n",
      "\tat loci.formats.ClassList.<init>(ClassList.java:122)\n",
      "\tat loci.formats.ImageReader.getDefaultReaderClasses(ImageReader.java:80)\n",
      "\tat io.scif.bf.BioFormatsFormat.cacheReaderClasses(BioFormatsFormat.java:538)\n",
      "\tat io.scif.bf.BioFormatsFormat.<init>(BioFormatsFormat.java:139)\n",
      "\tat sun.reflect.NativeConstructorAccessorImpl.newInstance0(Native Method)\n",
      "\tat sun.reflect.NativeConstructorAccessorImpl.newInstance(NativeConstructorAccessorImpl.java:62)\n",
      "\tat sun.reflect.DelegatingConstructorAccessorImpl.newInstance(DelegatingConstructorAccessorImpl.java:45)\n",
      "\tat java.lang.reflect.Constructor.newInstance(Constructor.java:423)\n",
      "\tat java.lang.Class.newInstance(Class.java:442)\n",
      "\tat org.scijava.plugin.PluginInfo.createInstance(PluginInfo.java:304)\n",
      "\tat org.scijava.plugin.DefaultPluginService.createInstance(DefaultPluginService.java:234)\n",
      "\tat org.scijava.plugin.DefaultPluginService.createInstances(DefaultPluginService.java:223)\n",
      "\tat org.scijava.plugin.DefaultPluginService.createInstancesOfType(DefaultPluginService.java:214)\n",
      "\tat io.scif.services.DefaultFormatService.lambda$initialize$0(DefaultFormatService.java:459)\n",
      "\tat org.scijava.thread.DefaultThreadService.lambda$wrap$1(DefaultThreadService.java:211)\n",
      "\tat java.util.concurrent.Executors$RunnableAdapter.call(Executors.java:511)\n",
      "\tat java.util.concurrent.FutureTask.run(FutureTask.java:266)\n",
      "\tat java.util.concurrent.ThreadPoolExecutor.runWorker(ThreadPoolExecutor.java:1149)\n",
      "\tat java.util.concurrent.ThreadPoolExecutor$Worker.run(ThreadPoolExecutor.java:624)\n",
      "\tat java.lang.Thread.run(Thread.java:748)\n",
      "15:41:39.846 [SciJava-10b68723-Thread-0] DEBUG loci.formats.ClassList - Could not find loci.formats.in.ZarrReader\n",
      "java.lang.ClassNotFoundException: loci.formats.in.ZarrReader\n",
      "\tat java.net.URLClassLoader.findClass(URLClassLoader.java:387)\n",
      "\tat java.lang.ClassLoader.loadClass(ClassLoader.java:419)\n",
      "\tat sun.misc.Launcher$AppClassLoader.loadClass(Launcher.java:352)\n",
      "\tat java.lang.ClassLoader.loadClass(ClassLoader.java:352)\n",
      "\tat java.lang.Class.forName0(Native Method)\n",
      "\tat java.lang.Class.forName(Class.java:264)\n",
      "\tat loci.formats.ClassList.parseLine(ClassList.java:196)\n",
      "\tat loci.formats.ClassList.parseFile(ClassList.java:258)\n",
      "\tat loci.formats.ClassList.<init>(ClassList.java:138)\n",
      "\tat loci.formats.ClassList.<init>(ClassList.java:122)\n",
      "\tat loci.formats.ImageReader.getDefaultReaderClasses(ImageReader.java:80)\n",
      "\tat io.scif.bf.BioFormatsFormat.cacheReaderClasses(BioFormatsFormat.java:538)\n",
      "\tat io.scif.bf.BioFormatsFormat.<init>(BioFormatsFormat.java:139)\n",
      "\tat sun.reflect.NativeConstructorAccessorImpl.newInstance0(Native Method)\n",
      "\tat sun.reflect.NativeConstructorAccessorImpl.newInstance(NativeConstructorAccessorImpl.java:62)\n",
      "\tat sun.reflect.DelegatingConstructorAccessorImpl.newInstance(DelegatingConstructorAccessorImpl.java:45)\n",
      "\tat java.lang.reflect.Constructor.newInstance(Constructor.java:423)\n",
      "\tat java.lang.Class.newInstance(Class.java:442)\n",
      "\tat org.scijava.plugin.PluginInfo.createInstance(PluginInfo.java:304)\n",
      "\tat org.scijava.plugin.DefaultPluginService.createInstance(DefaultPluginService.java:234)\n",
      "\tat org.scijava.plugin.DefaultPluginService.createInstances(DefaultPluginService.java:223)\n",
      "\tat org.scijava.plugin.DefaultPluginService.createInstancesOfType(DefaultPluginService.java:214)\n",
      "\tat io.scif.services.DefaultFormatService.lambda$initialize$0(DefaultFormatService.java:459)\n",
      "\tat org.scijava.thread.DefaultThreadService.lambda$wrap$1(DefaultThreadService.java:211)\n",
      "\tat java.util.concurrent.Executors$RunnableAdapter.call(Executors.java:511)\n",
      "\tat java.util.concurrent.FutureTask.run(FutureTask.java:266)\n",
      "\tat java.util.concurrent.ThreadPoolExecutor.runWorker(ThreadPoolExecutor.java:1149)\n",
      "\tat java.util.concurrent.ThreadPoolExecutor$Worker.run(ThreadPoolExecutor.java:624)\n",
      "\tat java.lang.Thread.run(Thread.java:748)\n"
     ]
    }
   ],
   "source": [
    "try: ij\n",
    "except NameError: ij = imagej.init('sc.fiji:fiji:2.14.0')"
   ]
  },
  {
   "cell_type": "code",
   "execution_count": 22,
   "metadata": {},
   "outputs": [
    {
     "name": "stdout",
     "output_type": "stream",
     "text": [
      "16:24:23.755 [AWT-AppKit] DEBUG loci.formats.in.LeicaSCNReader - XML parsing failed\n",
      "java.io.IOException: null\n",
      "\tat loci.common.xml.XMLTools.parseXML(XMLTools.java:559)\n",
      "\tat loci.common.xml.XMLTools.parseXML(XMLTools.java:533)\n",
      "\tat loci.common.xml.XMLTools.parseXML(XMLTools.java:504)\n",
      "\tat loci.formats.in.LeicaSCNReader.isThisType(LeicaSCNReader.java:109)\n",
      "\tat loci.formats.ImageReader.isThisType(ImageReader.java:864)\n",
      "\tat loci.formats.ImageReader.isThisType(ImageReader.java:259)\n",
      "\tat io.scif.bf.BioFormatsFormat$Checker.isFormat(BioFormatsFormat.java:391)\n",
      "\tat io.scif.services.DefaultFormatService.getFormatList(DefaultFormatService.java:347)\n",
      "\tat io.scif.services.DefaultFormatService.getFormat(DefaultFormatService.java:323)\n",
      "\tat io.scif.services.DefaultDatasetIOService.canOpen(DefaultDatasetIOService.java:87)\n",
      "\tat io.scif.io.DatasetIOPlugin.supportsOpen(DatasetIOPlugin.java:75)\n",
      "\tat org.scijava.io.IOService.getOpener(IOService.java:62)\n",
      "\tat org.scijava.io.DefaultIOService.open(DefaultIOService.java:87)\n",
      "\tat org.scijava.io.DefaultIOService.open(DefaultIOService.java:68)\n",
      "Caused by: org.xml.sax.SAXParseException: Content is not allowed in prolog.\n",
      "\tat org.apache.xerces.util.ErrorHandlerWrapper.createSAXParseException(Unknown Source)\n",
      "\tat org.apache.xerces.util.ErrorHandlerWrapper.fatalError(Unknown Source)\n",
      "\tat org.apache.xerces.impl.XMLErrorReporter.reportError(Unknown Source)\n",
      "\tat org.apache.xerces.impl.XMLErrorReporter.reportError(Unknown Source)\n",
      "\tat org.apache.xerces.impl.XMLScanner.reportFatalError(Unknown Source)\n",
      "\tat org.apache.xerces.impl.XMLDocumentScannerImpl$PrologDispatcher.dispatch(Unknown Source)\n",
      "\tat org.apache.xerces.impl.XMLDocumentFragmentScannerImpl.scanDocument(Unknown Source)\n",
      "\tat org.apache.xerces.parsers.XML11Configuration.parse(Unknown Source)\n",
      "\tat org.apache.xerces.parsers.XML11Configuration.parse(Unknown Source)\n",
      "\tat org.apache.xerces.parsers.XMLParser.parse(Unknown Source)\n",
      "\tat org.apache.xerces.parsers.AbstractSAXParser.parse(Unknown Source)\n",
      "\tat org.apache.xerces.jaxp.SAXParserImpl$JAXPSAXParser.parse(Unknown Source)\n",
      "\tat org.apache.xerces.jaxp.SAXParserImpl.parse(Unknown Source)\n",
      "\tat javax.xml.parsers.SAXParser.parse(SAXParser.java:195)\n",
      "\tat loci.common.xml.XMLTools.parseXML(XMLTools.java:551)\n",
      "\t... 13 common frames omitted\n"
     ]
    },
    {
     "name": "stderr",
     "output_type": "stream",
     "text": [
      "[java.lang.Enum.toString] 16:24:23.755 [AWT-AppKit] DEBUG loci.formats.in.LeicaSCNReader - XML parsing failed\n",
      "java.io.IOException: null\n",
      "\tat loci.common.xml.XMLTools.parseXML(XMLTools.java:559)\n",
      "\tat loci.common.xml.XMLTools.parseXML(XMLTools.java:533)\n",
      "\tat loci.common.xml.XMLTools.parseXML(XMLTools.java:504)\n",
      "\tat loci.formats.in.LeicaSCNReader.isThisType(LeicaSCNReader.java:109)\n",
      "\tat loci.formats.ImageReader.isThisType(ImageReader.java:864)\n",
      "\tat loci.formats.ImageReader.isThisType(ImageReader.java:259)\n",
      "\tat io.scif.bf.BioFormatsFormat$Checker.isFormat(BioFormatsFormat.java:391)\n",
      "\tat io.scif.services.DefaultFormatService.getFormatList(DefaultFormatService.java:347)\n",
      "\tat io.scif.services.DefaultFormatService.getFormat(DefaultFormatService.java:323)\n",
      "\tat io.scif.services.DefaultDatasetIOService.canOpen(DefaultDatasetIOService.java:87)\n",
      "\tat io.scif.io.DatasetIOPlugin.supportsOpen(DatasetIOPlugin.java:75)\n",
      "\tat org.scijava.io.IOService.getOpener(IOService.java:62)\n",
      "\tat org.scijava.io.DefaultIOService.open(DefaultIOService.java:87)\n",
      "\tat org.scijava.io.DefaultIOService.open(DefaultIOService.java:68)\n",
      "Caused by: org.xml.sax.SAXParseException: Content is not allowed in prolog.\n",
      "\tat org.apache.xerces.util.ErrorHandlerWrapper.createSAXParseException(Unknown Source)\n",
      "\tat org.apache.xerces.util.ErrorHandlerWrapper.fatalError(Unknown Source)\n",
      "\tat org.apache.xerces.impl.XMLErrorReporter.reportError(Unknown Source)\n",
      "\tat org.apache.xerces.impl.XMLErrorReporter.reportError(Unknown Source)\n",
      "\tat org.apache.xerces.impl.XMLScanner.reportFatalError(Unknown Source)\n",
      "\tat org.apache.xerces.impl.XMLDocumentScannerImpl$PrologDispatcher.dispatch(Unknown Source)\n",
      "\tat org.apache.xerces.impl.XMLDocumentFragmentScannerImpl.scanDocument(Unknown Source)\n",
      "\tat org.apache.xerces.parsers.XML11Configuration.parse(Unknown Source)\n",
      "\tat org.apache.xerces.parsers.XML11Configuration.parse(Unknown Source)\n",
      "\tat org.apache.xerces.parsers.XMLParser.parse(Unknown Source)\n",
      "\tat org.apache.xerces.parsers.AbstractSAXParser.parse(Unknown Source)\n",
      "\tat org.apache.xerces.jaxp.SAXParserImpl$JAXPSAXParser.parse(Unknown Source)\n",
      "\tat org.apache.xerces.jaxp.SAXParserImpl.parse(Unknown Source)\n",
      "\tat javax.xml.parsers.SAXParser.parse(SAXParser.java:195)\n",
      "\tat loci.common.xml.XMLTools.parseXML(XMLTools.java:551)\n",
      "\t... 13 common frames omitted\n"
     ]
    }
   ],
   "source": [
    "path_image = \"/Users/beatrizfernandes/Tese/data/tilescans fragmented/masks/image_001_nuclei3d.tif\"\n",
    "image = ij.io().open(path_image)"
   ]
  },
  {
   "cell_type": "code",
   "execution_count": 23,
   "metadata": {},
   "outputs": [],
   "source": [
    "def dump_info(image):\n",
    "    \"\"\"A handy function to print details of an image object.\"\"\"\n",
    "    name = image.name if hasattr(image, 'name') else None # xarray\n",
    "    if name is None and hasattr(image, 'getName'): name = image.getName() # Dataset\n",
    "    if name is None and hasattr(image, 'getTitle'): name = image.getTitle() # ImagePlus\n",
    "    print(f\" name: {name or 'N/A'}\")\n",
    "    print(f\" type: {type(image)}\")\n",
    "    print(f\"dtype: {image.dtype if hasattr(image, 'dtype') else 'N/A'}\")\n",
    "    print(f\"shape: {image.shape}\")\n",
    "    print(f\" dims: {image.dims if hasattr(image, 'dims') else 'N/A'}\")"
   ]
  },
  {
   "cell_type": "code",
   "execution_count": 24,
   "metadata": {},
   "outputs": [
    {
     "name": "stdout",
     "output_type": "stream",
     "text": [
      " name: image_001_nuclei3d.tif\n",
      " type: <java class 'net.imagej.DefaultDataset'>\n",
      "dtype: <java class 'net.imglib2.type.numeric.integer.IntType'>\n",
      "shape: (512, 512, 101)\n",
      " dims: ('X', 'Y', 'Unknown')\n"
     ]
    }
   ],
   "source": [
    "dump_info(image)"
   ]
  },
  {
   "cell_type": "code",
   "execution_count": 25,
   "metadata": {},
   "outputs": [
    {
     "data": {
      "image/png": "[encoded data removed]",
      "text/plain": [
       "<Figure size 640x480 with 1 Axes>"
      ]
     },
     "metadata": {},
     "output_type": "display_data"
    }
   ],
   "source": [
    "pyimage = ij.py.from_java(image)\n",
    "ij.py.show(pyimage[20,:,:], cmap='gray')"
   ]
  },
  {
   "cell_type": "code",
   "execution_count": 26,
   "metadata": {},
   "outputs": [
    {
     "data": {
      "text/plain": [
       "array([ 0,  1,  2,  3,  4,  5,  6, 10, 11, 17, 18, 34, 35, 37, 39, 40, 42,\n",
       "       43, 45, 46, 50, 51, 54, 56, 57, 58, 59, 60, 61, 62, 63, 64, 65, 66,\n",
       "       67, 68, 69, 70, 71, 72, 73, 74, 75, 76, 78, 80, 81, 82, 83],\n",
       "      dtype=int32)"
      ]
     },
     "execution_count": 26,
     "metadata": {},
     "output_type": "execute_result"
    }
   ],
   "source": [
    "np.unique(pyimage)"
   ]
  },
  {
   "cell_type": "code",
   "execution_count": 31,
   "metadata": {},
   "outputs": [
    {
     "data": {
      "image/png": "[encoded data removed]",
      "text/plain": [
       "<Figure size 640x480 with 1 Axes>"
      ]
     },
     "metadata": {},
     "output_type": "display_data"
    }
   ],
   "source": [
    "mask_n = 45\n",
    "ij.py.show(np.array((pyimage==mask_n)*pyimage).sum(axis=0), cmap='gray')"
   ]
  }
 ],
 "metadata": {
  "kernelspec": {
   "display_name": "imagej",
   "language": "python",
   "name": "python3"
  },
  "language_info": {
   "codemirror_mode": {
    "name": "ipython",
    "version": 3
   },
   "file_extension": ".py",
   "mimetype": "text/x-python",
   "name": "python",
   "nbconvert_exporter": "python",
   "pygments_lexer": "ipython3",
   "version": "3.8.13"
  }
 },
 "nbformat": 4,
 "nbformat_minor": 2
}
